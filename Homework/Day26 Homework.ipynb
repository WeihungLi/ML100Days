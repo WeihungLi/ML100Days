{
 "cells": [
  {
   "cell_type": "markdown",
   "metadata": {},
   "source": [
    "### 作業目的: 了解何謂Bias-Variance Tradeoff"
   ]
  },
  {
   "cell_type": "markdown",
   "metadata": {},
   "source": [
    "### Q1: 一般模型誤差可拆為三部分，這三部分的誤差分別是？\n",
    "\n",
    "Answer: 第一個部分是來自數據本身的隨機誤差(Random Error)、第二跟三為模型預測結果會出現的偏差(Bias)跟方差(Variance)。"
   ]
  },
  {
   "cell_type": "markdown",
   "metadata": {},
   "source": [
    "### Q2: 請解釋何謂Bias-Variance Tradeoff\n",
    "\n",
    "Answer:在訓練模型中，Random Error是數據本身而來不能去除，因此，我們要的到一個Robust的預測模型就要將其餘兩個誤差降至最低。\n",
    "但在追求其中一個誤差的極小化，另一個也會隨著變大，兩主的消長是需要去挑整治至衡的狀態，這個情況就是tradeoff。 當Bias過大，而Variance小時就會出現Underfitting，反之則為Overfitting。"
   ]
  },
  {
   "cell_type": "code",
   "execution_count": null,
   "metadata": {},
   "outputs": [],
   "source": []
  }
 ],
 "metadata": {
  "kernelspec": {
   "display_name": "Python 3",
   "language": "python",
   "name": "python3"
  },
  "language_info": {
   "codemirror_mode": {
    "name": "ipython",
    "version": 3
   },
   "file_extension": ".py",
   "mimetype": "text/x-python",
   "name": "python",
   "nbconvert_exporter": "python",
   "pygments_lexer": "ipython3",
   "version": "3.9.0"
  }
 },
 "nbformat": 4,
 "nbformat_minor": 2
}
